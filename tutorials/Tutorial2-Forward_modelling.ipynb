{
 "cells": [
  {
   "cell_type": "markdown",
   "id": "34aae684-419b-45e9-833a-66f2ef609560",
   "metadata": {},
   "source": [
    "# Forward modelling of proxy timeseries\n",
    "In this Example 2, we will apply operators in space and time to model simulation data (`sim_data`). As a result, we will obtain forward modeled proxy time series for selected proxy datasets. Please make sure you are familiar with the contents of Example 1 \"Getting Started\".\n",
    "\n",
    "First let's import the necessary packages and set the relevant paths."
   ]
  },
  {
   "cell_type": "code",
   "execution_count": 2,
   "id": "8c5e4292-930c-460a-8747-97197d426659",
   "metadata": {},
   "outputs": [],
   "source": [
    "# import packages\n",
    "import cupsm\n",
    "import pandas as pd\n",
    "import numpy as np\n",
    "import xarray as xr\n",
    "\n",
    "# import plotting packages\n",
    "import matplotlib\n",
    "import matplotlib.pyplot as plt\n",
    "import matplotlib.cm as cm\n",
    "from matplotlib.colors import Normalize\n",
    "from matplotlib.colors import LinearSegmentedColormap\n",
    "import cartopy\n",
    "import cartopy.crs as ccrs\n",
    "from cartopy.util import add_cyclic_point"
   ]
  },
  {
   "cell_type": "code",
   "execution_count": 3,
   "id": "58930333-4497-4c10-bcfc-b7d55fce81f5",
   "metadata": {},
   "outputs": [],
   "source": [
    "# define paths\n",
    "lipd_path = \"/data/obs/proxy_databases/PalMod130k/PALMOD130k_v1_0_1_250320/LiPD/\" # path to directory where LiPD files are\n",
    "table_path = \"/data/projects/nfdi4earth/\" # path where the overview table should be stored\n",
    "sim_data_path = \"/data/projects/nfdi4earth/regridded_tos_mpi-esm/\" # path where the netcdf files of the simulation data are"
   ]
  },
  {
   "cell_type": "markdown",
   "id": "00d1dcd6-0d15-45d6-9e49-1a6af79ea770",
   "metadata": {},
   "source": [
    "## 1. Initialize ObsData object\n",
    "**as dictionary**\n",
    "\n",
    "\n",
    "..."
   ]
  },
  {
   "cell_type": "code",
   "execution_count": null,
   "id": "d85b5d14-16be-40da-aff5-c2919fd81bee",
   "metadata": {},
   "outputs": [],
   "source": []
  },
  {
   "cell_type": "code",
   "execution_count": null,
   "id": "b5f23564-7603-41e8-9ffa-d24392923b5b",
   "metadata": {},
   "outputs": [],
   "source": []
  },
  {
   "cell_type": "markdown",
   "id": "0d7e9ad8-e0e0-43fe-8073-cebabdef48a7",
   "metadata": {},
   "source": [
    "## 2. Initialize SimData\n",
    "**as chunked xarray DataSet**\n",
    "\n",
    "..."
   ]
  },
  {
   "cell_type": "code",
   "execution_count": null,
   "id": "c83152a7-d11c-4b82-aaf9-dec4aac2919e",
   "metadata": {},
   "outputs": [],
   "source": []
  },
  {
   "cell_type": "markdown",
   "id": "358908c4-da06-417d-88a5-4c34ae438a0d",
   "metadata": {},
   "source": [
    "## 3. Initialize target object\n",
    "**as dictionary of python class objects**\n",
    "\n",
    "..."
   ]
  },
  {
   "cell_type": "code",
   "execution_count": null,
   "id": "721bbef9-d705-4dab-a02a-05da0853bedd",
   "metadata": {},
   "outputs": [],
   "source": []
  },
  {
   "cell_type": "code",
   "execution_count": null,
   "id": "cbd5b2a6-b36a-46c7-be6c-3d2a477e923a",
   "metadata": {},
   "outputs": [],
   "source": []
  },
  {
   "cell_type": "code",
   "execution_count": null,
   "id": "395c8b92-0ee5-4437-ab1d-9a50dc778903",
   "metadata": {},
   "outputs": [],
   "source": [
    "deglac = xr.open_mfdataset(\"/data/projects/nfdi4earth/regridded_tos_mpi-esm/r_tos_Omon_MPI-ESM1-2-CR_transient-deglaciation-prescribed-glac1d_r1i1p3f2_gn_*\",\n",
    "                                 parallel=True, use_cftime=True,)\n",
    "                                 #chunks={\"time\":10, \"lat\":30, \"lon\": 40})\n",
    "\n",
    "sim_data = transfer_timeaxis_deglac(deglac.tos)"
   ]
  },
  {
   "cell_type": "code",
   "execution_count": null,
   "id": "ed1a41e1-e470-4176-8f71-376ab58f5ce2",
   "metadata": {},
   "outputs": [],
   "source": []
  }
 ],
 "metadata": {
  "kernelspec": {
   "display_name": "condasky",
   "language": "python",
   "name": "condasky"
  },
  "language_info": {
   "codemirror_mode": {
    "name": "ipython",
    "version": 3
   },
   "file_extension": ".py",
   "mimetype": "text/x-python",
   "name": "python",
   "nbconvert_exporter": "python",
   "pygments_lexer": "ipython3",
   "version": "3.11.7"
  }
 },
 "nbformat": 4,
 "nbformat_minor": 5
}
